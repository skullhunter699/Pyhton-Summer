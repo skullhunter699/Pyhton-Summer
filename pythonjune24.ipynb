{
 "cells": [
  {
   "cell_type": "code",
   "execution_count": 1,
   "metadata": {},
   "outputs": [
    {
     "name": "stdout",
     "output_type": "stream",
     "text": [
      "Item is not found\n"
     ]
    }
   ],
   "source": [
    "def binarysearch(a,lIndex,rIndex,tarItem):\n",
    "    while lIndex<=rIndex:\n",
    "        mindex=lIndex+(rIndex-lIndex)//2;\n",
    "        if a[mindex]==tarItem:\n",
    "            return mindex\n",
    "        if a[mindex]>tarItem:\n",
    "            rIndex=mindex-1\n",
    "        else:\n",
    "            lIndex=mindex+1\n",
    "    return -1\n",
    "list1=[1,4,9,15,25,45,57,88,98]\n",
    "res = binarysearch(list1,0,8,818)\n",
    "if res!=-1:\n",
    "    print(\"Item is found\")\n",
    "else:\n",
    "    print(\"Item is not found\")"
   ]
  },
  {
   "cell_type": "code",
   "execution_count": 2,
   "metadata": {},
   "outputs": [
    {
     "name": "stdout",
     "output_type": "stream",
     "text": [
      "1 3 6 18 19 25 "
     ]
    }
   ],
   "source": [
    "def bubblesort(a):\n",
    "    for i in range (len(a)-1):\n",
    "        for j in range (len(a)-1):\n",
    "            if a[j]>a[j+1]:\n",
    "                a[j],a[j+1]=a[j+1],a[j]\n",
    "    for i in range (len(a)):\n",
    "        print(a[i],end=\" \")\n",
    "lst1 = [19,1,25,6,18,3]\n",
    "bubblesort(lst1)"
   ]
  },
  {
   "cell_type": "code",
   "execution_count": 3,
   "metadata": {},
   "outputs": [
    {
     "name": "stdout",
     "output_type": "stream",
     "text": [
      "Application\n",
      "str[0]= A\n",
      "str[1]= p\n",
      "str[-1]= n\n",
      "str[-3]= i\n",
      "str[1:5]= ppli\n",
      "str[:5]= Appli\n",
      "str[5:-2]= cati\n",
      "str[::-1]= noitacilppA\n"
     ]
    }
   ],
   "source": [
    "str=\"Application\"\n",
    "print(str)\n",
    "print(\"str[0]=\",str[0])\n",
    "print(\"str[1]=\",str[1])\n",
    "print(\"str[-1]=\",str[-1])\n",
    "print(\"str[-3]=\",str[-3])\n",
    "print(\"str[1:5]=\",str[1:5])\n",
    "print(\"str[:5]=\",str[:5])\n",
    "print(\"str[5:-2]=\",str[5:-2])\n",
    "print(\"str[::-1]=\",str[::-1])#used for reverse the string"
   ]
  },
  {
   "cell_type": "code",
   "execution_count": 4,
   "metadata": {},
   "outputs": [
    {
     "name": "stdout",
     "output_type": "stream",
     "text": [
      "False\n",
      "True\n"
     ]
    }
   ],
   "source": [
    "def isPalindrome(s):\n",
    "    if s==s[::-1]:\n",
    "        return True\n",
    "    else:\n",
    "        return False\n",
    "print(isPalindrome(\"Python\"))\n",
    "print(isPalindrome(\"jalaj\"))"
   ]
  },
  {
   "cell_type": "code",
   "execution_count": 6,
   "metadata": {},
   "outputs": [
    {
     "name": "stdout",
     "output_type": "stream",
     "text": [
      "enter a number3356\n",
      "4\n"
     ]
    }
   ],
   "source": [
    "# count the digtits of a number\n",
    "n=int(input(\"enter a number\"))\n",
    "cnt=0\n",
    "while n!=0:\n",
    "    cnt=cnt+1;\n",
    "    n=n//10;\n",
    "print(cnt)"
   ]
  },
  {
   "cell_type": "code",
   "execution_count": 8,
   "metadata": {},
   "outputs": [
    {
     "data": {
      "text/plain": [
       "11"
      ]
     },
     "execution_count": 8,
     "metadata": {},
     "output_type": "execute_result"
    }
   ],
   "source": [
    "#count of chars --String len function\n",
    "def countofChars(str):\n",
    "    return len(str)\n",
    "countofChars(\"Application\")"
   ]
  },
  {
   "cell_type": "code",
   "execution_count": 9,
   "metadata": {},
   "outputs": [
    {
     "data": {
      "text/plain": [
       "5"
      ]
     },
     "execution_count": 9,
     "metadata": {},
     "output_type": "execute_result"
    }
   ],
   "source": [
    "#count of Digits in a number --String len function\n",
    "def countDigits(n):\n",
    "    return len(n)\n",
    "countDigits(\"25418\")"
   ]
  },
  {
   "cell_type": "code",
   "execution_count": 10,
   "metadata": {},
   "outputs": [
    {
     "data": {
      "text/plain": [
       "3"
      ]
     },
     "execution_count": 10,
     "metadata": {},
     "output_type": "execute_result"
    }
   ],
   "source": [
    "#String--Converts--List--len of the list\n",
    "def count(str):\n",
    "    lst1=list(str)\n",
    "    return len(lst1)\n",
    "count(\"App\")"
   ]
  },
  {
   "cell_type": "code",
   "execution_count": 11,
   "metadata": {},
   "outputs": [
    {
     "name": "stdout",
     "output_type": "stream",
     "text": [
      "2\n",
      "3\n"
     ]
    }
   ],
   "source": [
    "def countUpperCase(str):\n",
    "    cnt=0\n",
    "    lst=list(str)\n",
    "    for x in range (len(lst)):\n",
    "        if ord(lst[x])>=65 and ord(lst[x])<=90:\n",
    "            cnt=cnt+1\n",
    "    return cnt\n",
    "\n",
    "print(countUpperCase(\"AppLication\"))\n",
    "print(countUpperCase(\"TeST\"))"
   ]
  },
  {
   "cell_type": "code",
   "execution_count": 12,
   "metadata": {},
   "outputs": [
    {
     "name": "stdout",
     "output_type": "stream",
     "text": [
      "1889"
     ]
    }
   ],
   "source": [
    "\n",
    "def printDigits(str):\n",
    "        lst=list(str)\n",
    "        for x in range(len(lst)):\n",
    "            \n",
    "            if ord(lst[x])>=48 and ord(lst[x])<=57:\n",
    "                print(lst[x],end=\"\")\n",
    "printDigits(\"Application1889\")#1889"
   ]
  },
  {
   "cell_type": "code",
   "execution_count": 13,
   "metadata": {},
   "outputs": [
    {
     "name": "stdout",
     "output_type": "stream",
     "text": [
      "2019\n"
     ]
    }
   ],
   "source": [
    "\n",
    "def countDigits(str):\n",
    "    lst=list(str)\n",
    "    s=''\n",
    "    for x in lst:\n",
    "        if x.isdecimal():\n",
    "            s+=x\n",
    "    return s        \n",
    "       \n",
    "print(countDigits(\"NextSparkling2019\"));"
   ]
  },
  {
   "cell_type": "code",
   "execution_count": null,
   "metadata": {},
   "outputs": [],
   "source": []
  }
 ],
 "metadata": {
  "kernelspec": {
   "display_name": "Python 3",
   "language": "python",
   "name": "python3"
  },
  "language_info": {
   "codemirror_mode": {
    "name": "ipython",
    "version": 3
   },
   "file_extension": ".py",
   "mimetype": "text/x-python",
   "name": "python",
   "nbconvert_exporter": "python",
   "pygments_lexer": "ipython3",
   "version": "3.7.3"
  }
 },
 "nbformat": 4,
 "nbformat_minor": 2
}
