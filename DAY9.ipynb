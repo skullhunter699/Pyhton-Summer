{
 "cells": [
  {
   "cell_type": "code",
   "execution_count": 1,
   "metadata": {},
   "outputs": [
    {
     "name": "stdout",
     "output_type": "stream",
     "text": [
      "ANIL\n",
      "anil\n"
     ]
    }
   ],
   "source": [
    "str=\"Anil\"\n",
    "print(str.upper())\n",
    "print(str.lower())"
   ]
  },
  {
   "cell_type": "code",
   "execution_count": 2,
   "metadata": {},
   "outputs": [
    {
     "name": "stdout",
     "output_type": "stream",
     "text": [
      "False\n",
      "True\n"
     ]
    }
   ],
   "source": [
    "s='Python is Easy Programming to learn and interesting'\n",
    "s1=\"python\"\n",
    "print(s.islower())\n",
    "print(s1.islower())"
   ]
  },
  {
   "cell_type": "code",
   "execution_count": 3,
   "metadata": {},
   "outputs": [
    {
     "name": "stdout",
     "output_type": "stream",
     "text": [
      "False\n",
      "True\n"
     ]
    }
   ],
   "source": [
    "s=\"Application\"\n",
    "s1=\"ANIL\"\n",
    "print(s.isupper())\n",
    "print(s1.isupper())"
   ]
  },
  {
   "cell_type": "code",
   "execution_count": 4,
   "metadata": {},
   "outputs": [
    {
     "name": "stdout",
     "output_type": "stream",
     "text": [
      "True\n",
      "False\n"
     ]
    }
   ],
   "source": [
    "s=\"Application\"\n",
    "s1=\"App1889\"\n",
    "print(s.isalpha())\n",
    "print(s1.isalpha())"
   ]
  },
  {
   "cell_type": "code",
   "execution_count": 5,
   "metadata": {},
   "outputs": [
    {
     "name": "stdout",
     "output_type": "stream",
     "text": [
      "False\n",
      "False\n"
     ]
    }
   ],
   "source": [
    "s=\"Python programming\"\n",
    "s1=\"python Programming\"\n",
    "print(s.istitle())\n",
    "print(s1.istitle())"
   ]
  },
  {
   "cell_type": "code",
   "execution_count": 6,
   "metadata": {},
   "outputs": [
    {
     "name": "stdout",
     "output_type": "stream",
     "text": [
      "False\n",
      "False\n"
     ]
    }
   ],
   "source": [
    "\n",
    "s=\"Python\"\n",
    "s1=\"python programming\"\n",
    "print(s.isspace())\n",
    "print(s1.isspace())"
   ]
  },
  {
   "cell_type": "code",
   "execution_count": 7,
   "metadata": {},
   "outputs": [
    {
     "name": "stdout",
     "output_type": "stream",
     "text": [
      "P y t h o n\n"
     ]
    }
   ],
   "source": [
    "\n",
    "str=\"Python\"\n",
    "print(\" \".join(str))"
   ]
  },
  {
   "cell_type": "code",
   "execution_count": 8,
   "metadata": {},
   "outputs": [
    {
     "name": "stdout",
     "output_type": "stream",
     "text": [
      "Python,Programming,Easy\n"
     ]
    }
   ],
   "source": [
    "\n",
    "print(\",\".join([\"Python\",\"Programming\",\"Easy\"]))"
   ]
  },
  {
   "cell_type": "code",
   "execution_count": 9,
   "metadata": {},
   "outputs": [
    {
     "name": "stdout",
     "output_type": "stream",
     "text": [
      ",\n"
     ]
    }
   ],
   "source": [
    "lst=[\"\",\"\"]\n",
    "print(\",\".join(lst))"
   ]
  },
  {
   "cell_type": "code",
   "execution_count": 10,
   "metadata": {},
   "outputs": [
    {
     "name": "stdout",
     "output_type": "stream",
     "text": [
      "['Python,', 'Programming,', 'is,', 'easy,', 'to,', 'learn']\n",
      "['Python, Progr', 'mming, is, e', 'sy, to, le', 'rn']\n",
      "['Python', ' Programming', ' is', ' easy', ' to', ' learn']\n"
     ]
    }
   ],
   "source": [
    "s=\"Python, Programming, is, easy, to, learn\"\n",
    "print(s.split())\n",
    "print(s.split(\"a\"))\n",
    "print(s.split(\",\"))"
   ]
  },
  {
   "cell_type": "code",
   "execution_count": 11,
   "metadata": {},
   "outputs": [
    {
     "name": "stdout",
     "output_type": "stream",
     "text": [
      "['Python', 'Programming', 'is', 'easy', 'to', 'learn']\n",
      "2\n"
     ]
    }
   ],
   "source": [
    "s=\"Python Programming is easy to learn\"\n",
    "lst=(s.split())\n",
    "print(lst)\n",
    "print(lst.index(\"is\"))"
   ]
  },
  {
   "cell_type": "code",
   "execution_count": 12,
   "metadata": {},
   "outputs": [
    {
     "name": "stdout",
     "output_type": "stream",
     "text": [
      "['P', 'y', 't', 'h', 'o', 'n', ' ', 'P', 'r', 'o', 'g', 'r', 'a', 'm', 'm', 'i', 'n', 'g', ' ', 'i', 's', ' ', 'e', 'a', 's', 'y', ' ', 't', 'o', ' ', 'l', 'e', 'a', 'r', 'n']\n"
     ]
    }
   ],
   "source": [
    "s=\"Python Programming is easy to learn\"\n",
    "lst=list(s)\n",
    "print(lst)"
   ]
  },
  {
   "cell_type": "code",
   "execution_count": 13,
   "metadata": {},
   "outputs": [
    {
     "name": "stdout",
     "output_type": "stream",
     "text": [
      "Python Proapplicationmming\n"
     ]
    }
   ],
   "source": [
    "\n",
    "s=\"Python Programming\";\n",
    "print(s.replace(\"gra\",\"application\"))"
   ]
  },
  {
   "cell_type": "code",
   "execution_count": 14,
   "metadata": {},
   "outputs": [
    {
     "name": "stdout",
     "output_type": "stream",
     "text": [
      "('Python', 'Programming', 1989, 2019, 'Machine Learning', 'AI')\n",
      "(1, 2, 3, 4, 5)\n"
     ]
    }
   ],
   "source": [
    "t1=(\"Python\",\"Programming\",1989,2019,\"Machine Learning\",\"AI\")\n",
    "t2=(1,2,3,4,5)\n",
    "print(t1)\n",
    "print(t2)\n"
   ]
  },
  {
   "cell_type": "code",
   "execution_count": 15,
   "metadata": {},
   "outputs": [
    {
     "name": "stdout",
     "output_type": "stream",
     "text": [
      "t1[0]= Python\n",
      "t1[2]= 1989\n",
      "t1[-1]= AI\n",
      "t1[1:4]= ('Programming', 1989, 2019)\n",
      "t1[2:-2]= (1989, 2019)\n"
     ]
    }
   ],
   "source": [
    "t1=(\"Python\",\"Programming\",1989,2019,\"Machine Learning\",\"AI\")\n",
    "print(\"t1[0]=\",t1[0])\n",
    "print(\"t1[2]=\",t1[2])\n",
    "print(\"t1[-1]=\",t1[-1])\n",
    "print(\"t1[1:4]=\",t1[1:4])\n",
    "print(\"t1[2:-2]=\",t1[2:-2])"
   ]
  },
  {
   "cell_type": "code",
   "execution_count": 17,
   "metadata": {},
   "outputs": [
    {
     "name": "stdout",
     "output_type": "stream",
     "text": [
      "('Python', 'Programming', 1989, 2019, 'Machine Learning', 'AI')\n"
     ]
    },
    {
     "ename": "TypeError",
     "evalue": "'tuple' object doesn't support item deletion",
     "output_type": "error",
     "traceback": [
      "\u001b[1;31m---------------------------------------------------------------------------\u001b[0m",
      "\u001b[1;31mTypeError\u001b[0m                                 Traceback (most recent call last)",
      "\u001b[1;32m<ipython-input-17-14d8df6a9ee9>\u001b[0m in \u001b[0;36m<module>\u001b[1;34m\u001b[0m\n\u001b[0;32m      3\u001b[0m \u001b[0mprint\u001b[0m\u001b[1;33m(\u001b[0m\u001b[0mt1\u001b[0m\u001b[1;33m)\u001b[0m\u001b[1;33m\u001b[0m\u001b[1;33m\u001b[0m\u001b[0m\n\u001b[0;32m      4\u001b[0m \u001b[1;31m#t1[2]=2018  #del is not supported\u001b[0m\u001b[1;33m\u001b[0m\u001b[1;33m\u001b[0m\u001b[1;33m\u001b[0m\u001b[0m\n\u001b[1;32m----> 5\u001b[1;33m \u001b[1;32mdel\u001b[0m \u001b[0mt1\u001b[0m\u001b[1;33m[\u001b[0m\u001b[1;36m2\u001b[0m\u001b[1;33m]\u001b[0m\u001b[1;33m\u001b[0m\u001b[1;33m\u001b[0m\u001b[0m\n\u001b[0m",
      "\u001b[1;31mTypeError\u001b[0m: 'tuple' object doesn't support item deletion"
     ]
    }
   ],
   "source": [
    "\n",
    "t1=(\"Python\",\"Programming\",1989,2019,\"Machine Learning\",\"AI\")\n",
    "print(t1)\n",
    "#t1[2]=2018  #del is not supported\n",
    "del t1[2]"
   ]
  },
  {
   "cell_type": "code",
   "execution_count": 18,
   "metadata": {},
   "outputs": [
    {
     "name": "stdout",
     "output_type": "stream",
     "text": [
      "('Python', 'Programming', 1989, 2019, 'ML', 'AI')\n"
     ]
    }
   ],
   "source": [
    "\n",
    "t1=(\"Python\",\"Programming\")\n",
    "t2=(1989,2019,\"ML\",\"AI\")\n",
    "t3=t1+t2\n",
    "print(t3)"
   ]
  },
  {
   "cell_type": "code",
   "execution_count": 19,
   "metadata": {},
   "outputs": [
    {
     "name": "stdout",
     "output_type": "stream",
     "text": [
      "6\n"
     ]
    }
   ],
   "source": [
    "\n",
    "t1=(\"Python\",\"Programming\",1989,2019,\"Machine Learning\",\"AI\")\n",
    "print(len(t1))"
   ]
  },
  {
   "cell_type": "code",
   "execution_count": 20,
   "metadata": {},
   "outputs": [
    {
     "name": "stdout",
     "output_type": "stream",
     "text": [
      "12\n"
     ]
    }
   ],
   "source": [
    "\n",
    "t1=(12,1,5,9,8,4)\n",
    "print(max(t1))"
   ]
  },
  {
   "cell_type": "code",
   "execution_count": 21,
   "metadata": {},
   "outputs": [
    {
     "name": "stdout",
     "output_type": "stream",
     "text": [
      "2\n"
     ]
    }
   ],
   "source": [
    "t1=(19,2,16,8,6,9)\n",
    "print(min(t1))"
   ]
  },
  {
   "cell_type": "code",
   "execution_count": 22,
   "metadata": {},
   "outputs": [
    {
     "name": "stdout",
     "output_type": "stream",
     "text": [
      "('Python', 'Programming', 1989, 2019, 'Machine Learning', 'AI')\n",
      "('Python', 'Programming', 1989, 2019, 'Machine Learning', 'AI')\n"
     ]
    }
   ],
   "source": [
    "\n",
    "list1=(\"Python\",\"Programming\",1989,2019,\"Machine Learning\",\"AI\")\n",
    "print(list1)\n",
    "tuple1=tuple(list1)\n",
    "print(tuple1)"
   ]
  },
  {
   "cell_type": "code",
   "execution_count": 24,
   "metadata": {},
   "outputs": [
    {
     "name": "stdout",
     "output_type": "stream",
     "text": [
      "Python Programming\n"
     ]
    }
   ],
   "source": [
    "lst=['Python','Programming']\n",
    "print(\"%s %s\"% (lst[0],lst[1]))"
   ]
  },
  {
   "cell_type": "code",
   "execution_count": 25,
   "metadata": {},
   "outputs": [
    {
     "name": "stdout",
     "output_type": "stream",
     "text": [
      "Python Programming\n"
     ]
    }
   ],
   "source": [
    "lst=['Python','Programming']\n",
    "print(\"{0} {1}\".format(lst[0],lst[1]))"
   ]
  },
  {
   "cell_type": "code",
   "execution_count": 27,
   "metadata": {},
   "outputs": [
    {
     "name": "stdout",
     "output_type": "stream",
     "text": [
      "1 2 3 4\n"
     ]
    }
   ],
   "source": [
    "lst=[1,2,3,4]\n",
    "print(\"%d %d %d %d\"%(lst[0],lst[1],lst[2],lst[3]))"
   ]
  },
  {
   "cell_type": "code",
   "execution_count": 28,
   "metadata": {},
   "outputs": [
    {
     "name": "stdout",
     "output_type": "stream",
     "text": [
      "value at : 1 value at :  2\n",
      "value at : 3 value at :  4\n"
     ]
    }
   ],
   "source": [
    "lst=[1,2,3,4]\n",
    "print(\"value at : {0} value at :  {1}\".format(lst[0],lst[1]))\n",
    "print(\"value at : {0} value at :  {1}\".format(lst[2],lst[3]))"
   ]
  },
  {
   "cell_type": "code",
   "execution_count": 30,
   "metadata": {},
   "outputs": [
    {
     "name": "stdout",
     "output_type": "stream",
     "text": [
      "Contact puru added\n",
      "Contact dheeraj added\n"
     ]
    }
   ],
   "source": [
    "Contacts={}\n",
    "def addContact(name,phone):\n",
    "    #verify that the contact does not exist already\n",
    "    if name not in Contacts:\n",
    "        Contacts[name]=phone\n",
    "        print(\"Contact %s added\"% name)\n",
    "    else:\n",
    "        print(\"Contact %s already exist\"% name)\n",
    "    return\n",
    "addContact(\"puru\",100)\n",
    "addContact(\"dheeraj\",101)"
   ]
  },
  {
   "cell_type": "code",
   "execution_count": 31,
   "metadata": {},
   "outputs": [
    {
     "name": "stdout",
     "output_type": "stream",
     "text": [
      "puru : 100\n",
      "dheeraj : 101\n",
      "ninja does not exist\n"
     ]
    }
   ],
   "source": [
    "#Search for a particular contact from contact list\n",
    "def searchContact(name):\n",
    "    if name in Contacts:\n",
    "        print(name,\":\",Contacts[name])\n",
    "    else:\n",
    "        print(\"%s does not exist\" % name)\n",
    "    return\n",
    "searchContact(\"puru\")\n",
    "searchContact(\"dheeraj\")\n",
    "searchContact(\"ninja\")"
   ]
  },
  {
   "cell_type": "code",
   "execution_count": 32,
   "metadata": {},
   "outputs": [
    {
     "name": "stdout",
     "output_type": "stream",
     "text": [
      "2 Contacts added succesful\n"
     ]
    }
   ],
   "source": [
    "#View contact name is given as a dictionary    \n",
    "#Merge new contact with existing contact list\n",
    "def impoContacts(newContacts):\n",
    "    Contacts.update(newContacts)\n",
    "    print(len(newContacts.keys()),\"Contacts added succesful\")\n",
    "    return\n",
    "newContacts={'Dinesh':9955112233,'Ajay':9988774455}\n",
    "impoContacts(newContacts)"
   ]
  },
  {
   "cell_type": "code",
   "execution_count": 33,
   "metadata": {},
   "outputs": [
    {
     "name": "stdout",
     "output_type": "stream",
     "text": [
      "Dinesh : is deleted from the contact\n",
      "Ajay : is deleted from the contact\n"
     ]
    }
   ],
   "source": [
    "#Delete a contact from contact list\n",
    "def deleteContact(name):\n",
    "    if name in Contacts:\n",
    "        del Contacts[name]\n",
    "        print(name,\": is deleted from the contact\")\n",
    "    else:\n",
    "        print(name,\": is not exist in the contact\")\n",
    "    return\n",
    "deleteContact(\"Dinesh\")\n",
    "deleteContact(\"Ajay\")"
   ]
  },
  {
   "cell_type": "code",
   "execution_count": 34,
   "metadata": {},
   "outputs": [
    {
     "name": "stdout",
     "output_type": "stream",
     "text": [
      "{'puru': 100, 'dheeraj': 101}\n"
     ]
    }
   ],
   "source": [
    "print(Contacts)\n"
   ]
  },
  {
   "cell_type": "code",
   "execution_count": 36,
   "metadata": {},
   "outputs": [
    {
     "name": "stdout",
     "output_type": "stream",
     "text": [
      "puru  : update with the phone number\n",
      "dheeraj  : update with the phone number\n"
     ]
    }
   ],
   "source": [
    "def updateContact(name,phone):\n",
    "    if name in Contacts:\n",
    "        Contacts[name]=phone\n",
    "        print(name,\" : update with the phone number\")\n",
    "    else:\n",
    "        print(name,\"not exist in the Contacts\")\n",
    "    return\n",
    "updateContact(\"puru\",102)\n",
    "updateContact(\"dheeraj\",100)"
   ]
  },
  {
   "cell_type": "code",
   "execution_count": 37,
   "metadata": {},
   "outputs": [
    {
     "data": {
      "text/plain": [
       "123"
      ]
     },
     "execution_count": 37,
     "metadata": {},
     "output_type": "execute_result"
    }
   ],
   "source": [
    "\n",
    "from math import floor as f1  #the memory allocated only for the function of floor\n",
    "f1(123.456)"
   ]
  },
  {
   "cell_type": "code",
   "execution_count": 38,
   "metadata": {},
   "outputs": [
    {
     "data": {
      "text/plain": [
       "120"
      ]
     },
     "execution_count": 38,
     "metadata": {},
     "output_type": "execute_result"
    }
   ],
   "source": [
    "\n",
    "from math import factorial as fact\n",
    "fact(5)"
   ]
  },
  {
   "cell_type": "code",
   "execution_count": 39,
   "metadata": {},
   "outputs": [
    {
     "data": {
      "text/plain": [
       "120"
      ]
     },
     "execution_count": 39,
     "metadata": {},
     "output_type": "execute_result"
    }
   ],
   "source": [
    "import math\n",
    "math.factorial(5)"
   ]
  },
  {
   "cell_type": "code",
   "execution_count": 40,
   "metadata": {},
   "outputs": [
    {
     "name": "stdout",
     "output_type": "stream",
     "text": [
      "75 118 46 76 46 40 50 76 52 32 "
     ]
    }
   ],
   "source": [
    "#generate the random numbers between the two limits\n",
    "import random\n",
    "def generateRandomNumbers(n,lb,ub):\n",
    "    for i in range(0,n):\n",
    "        print(random.randint(lb,ub),end=\" \")\n",
    "    return\n",
    "generateRandomNumbers(10,12,120)"
   ]
  },
  {
   "cell_type": "code",
   "execution_count": 41,
   "metadata": {},
   "outputs": [
    {
     "name": "stdout",
     "output_type": "stream",
     "text": [
      "Natural logarithm of 14 is : 2.6390573296152584\n",
      "The gcd of 60 and 48 is : 12\n",
      "4.0\n",
      "3.0\n",
      "The floor of 2.3 is : -2\n",
      "The factorial of 5 is : 6\n",
      "2.0\n",
      "prime\n",
      "The copysign of a and b is : 2.0\n"
     ]
    }
   ],
   "source": [
    "import math\n",
    "a=-2\n",
    "b=3\n",
    "print (\"Natural logarithm of 14 is : \", end=\"\") \n",
    "print (math.log(14)) \n",
    "\n",
    "#gcd \n",
    "print (\"The gcd of 60 and 48 is : \",end=\"\") \n",
    "print (math.gcd(60,48)) \n",
    "\n",
    "\n",
    "# fmod\n",
    "Tup = (15, 22, -2, -40 ) \n",
    "print(math.fmod(4, 5)) \n",
    "print(math.fmod(43.50, 4.5))\n",
    "\n",
    "# returning the floor of 2.3 \n",
    "print (\"The floor of 2.3 is : \", end=\"\") \n",
    "print (math.floor(a)) \n",
    "\n",
    "# returning the factorial of 5 \n",
    "print (\"The factorial of 5 is : \", end=\"\") \n",
    "print (math.factorial(b)) \n",
    "\n",
    "\n",
    "# print the square root of 3\n",
    "print(math.sqrt(4))\n",
    "\n",
    "\n",
    "\n",
    "# function to check if prime or not  \n",
    "def check(n): \n",
    "    if n == 1: \n",
    "        return False\n",
    "          \n",
    "        # from 1 to sqrt(n)  \n",
    "    for x in range(2, (int)(math.sqrt(n))+1): \n",
    "        if n % x == 0: \n",
    "            return False \n",
    "    return True\n",
    "  \n",
    "# driver code \n",
    "n = 23\n",
    "if check(n): \n",
    "    print(\"prime\")  \n",
    "else: \n",
    "    print(\"not prime\") \n",
    "    \n",
    "    \n",
    "    \n",
    "# returning the copysign  \n",
    "print (\"The copysign of a and b is : \", end =\"\")  \n",
    "print (math.copysign(a, b))"
   ]
  },
  {
   "cell_type": "code",
   "execution_count": null,
   "metadata": {},
   "outputs": [],
   "source": []
  }
 ],
 "metadata": {
  "kernelspec": {
   "display_name": "Python 3",
   "language": "python",
   "name": "python3"
  },
  "language_info": {
   "codemirror_mode": {
    "name": "ipython",
    "version": 3
   },
   "file_extension": ".py",
   "mimetype": "text/x-python",
   "name": "python",
   "nbconvert_exporter": "python",
   "pygments_lexer": "ipython3",
   "version": "3.7.3"
  }
 },
 "nbformat": 4,
 "nbformat_minor": 2
}
