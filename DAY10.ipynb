{
 "cells": [
  {
   "cell_type": "code",
   "execution_count": 1,
   "metadata": {},
   "outputs": [
    {
     "name": "stdout",
     "output_type": "stream",
     "text": [
      "file is created successfully and data is written\n"
     ]
    }
   ],
   "source": [
    "# Function to create a file and write some data\n",
    "def createfile(filename):\n",
    "    f=open(filename,\"w\")\n",
    "    for i in range(10):\n",
    "        f.write(\"This is %d lines\\n\" % i)\n",
    "    print(\"file is created successfully and data is written\")\n",
    "    f.close()\n",
    "    return\n",
    "createfile(\"file1.txt\")"
   ]
  },
  {
   "cell_type": "code",
   "execution_count": 2,
   "metadata": {},
   "outputs": [
    {
     "name": "stdout",
     "output_type": "stream",
     "text": [
      "This is 0 lines\n",
      "This is 1 lines\n",
      "This is 2 lines\n",
      "This is 3 lines\n",
      "This is 4 lines\n",
      "This is 5 lines\n",
      "This is 6 lines\n",
      "This is 7 lines\n",
      "This is 8 lines\n",
      "This is 9 lines\n",
      "\n"
     ]
    }
   ],
   "source": [
    "#function for reading the file data\n",
    "def readfile(filename):\n",
    "    f=open(filename,\"r\")\n",
    "    if f.mode==\"r\":\n",
    "        x=f.read()\n",
    "        print(x)\n",
    "    f.close()\n",
    "    return\n",
    "readfile(\"file1.txt\")"
   ]
  },
  {
   "cell_type": "code",
   "execution_count": 3,
   "metadata": {},
   "outputs": [
    {
     "name": "stdout",
     "output_type": "stream",
     "text": [
      "file is created successfully and data is written\n"
     ]
    }
   ],
   "source": [
    "def createfile(filename):\n",
    "    f=open(filename,\"w\")\n",
    "    for i in range(10):\n",
    "        f.write(\"Test %d line\\n\" % i)\n",
    "    print(\"file is created successfully and data is written\")\n",
    "    f.close()\n",
    "    return\n",
    "createfile(\"file1.txt\")"
   ]
  },
  {
   "cell_type": "code",
   "execution_count": 4,
   "metadata": {},
   "outputs": [
    {
     "name": "stdout",
     "output_type": "stream",
     "text": [
      " Volume in drive C has no label.\n",
      " Volume Serial Number is 1231-56C0\n",
      "\n",
      " Directory of C:\\Users\\mechlab\n",
      "\n",
      "28-06-2019  09:54    <DIR>          .\n",
      "28-06-2019  09:54    <DIR>          ..\n",
      "21-06-2019  14:42    <DIR>          .anaconda\n",
      "21-06-2019  15:46    <DIR>          .conda\n",
      "21-06-2019  14:43                43 .condarc\n",
      "28-06-2019  09:54    <DIR>          .ipynb_checkpoints\n",
      "21-06-2019  14:54    <DIR>          .ipython\n",
      "23-06-2019  09:45    <DIR>          .jupyter\n",
      "21-06-2019  10:03    <DIR>          Anaconda3\n",
      "15-02-2018  04:58    <DIR>          Contacts\n",
      "28-06-2019  09:54                72 DAY10.ipynb\n",
      "28-06-2019  09:52            18,215 DAY9.ipynb\n",
      "27-06-2019  10:18    <DIR>          Desktop\n",
      "26-06-2019  15:40    <DIR>          Documents\n",
      "26-06-2019  11:02    <DIR>          Downloads\n",
      "15-02-2018  04:58    <DIR>          Favorites\n",
      "28-06-2019  09:55               130 file1.txt\n",
      "15-02-2018  04:58    <DIR>          Links\n",
      "15-02-2018  04:58    <DIR>          Music\n",
      "15-02-2018  04:58    <DIR>          Pictures\n",
      "21-06-2019  14:51    <DIR>          python programming\n",
      "26-06-2019  10:40             8,077 pythonjune24.ipynb\n",
      "26-06-2019  12:45             4,991 pythonjune26.ipynb\n",
      "15-02-2018  04:58    <DIR>          Saved Games\n",
      "15-02-2018  04:58    <DIR>          Searches\n",
      "21-06-2019  14:53                72 Untitled.ipynb\n",
      "23-06-2019  09:57               619 Untitled1.ipynb\n",
      "23-06-2019  11:46               555 Untitled2.ipynb\n",
      "23-06-2019  13:00             3,460 Untitled3.ipynb\n",
      "23-06-2019  13:00             3,460 Untitled3-Copy1.ipynb\n",
      "24-06-2019  10:44               555 Untitled4.ipynb\n",
      "27-06-2019  09:53             3,762 Untitled5.ipynb\n",
      "27-06-2019  12:15             6,358 Untitled6.ipynb\n",
      "28-06-2019  09:38                72 Untitled7.ipynb\n",
      "15-02-2018  04:58    <DIR>          Videos\n",
      "              15 File(s)         50,441 bytes\n",
      "              20 Dir(s)  80,212,185,088 bytes free\n"
     ]
    }
   ],
   "source": [
    "ls"
   ]
  },
  {
   "cell_type": "code",
   "execution_count": 5,
   "metadata": {},
   "outputs": [],
   "source": [
    "#Data to append\n",
    "#Functions to append the data to existng file\n",
    "def appenddata(filename):\n",
    "    f=open(filename,\"a\")\n",
    "    f.write(\"new line 1\\n\")\n",
    "    f.write(\"new line 2\\n\")\n",
    "    f.close()\n",
    "    return\n",
    "appenddata(\"file1.txt\")"
   ]
  },
  {
   "cell_type": "code",
   "execution_count": 6,
   "metadata": {},
   "outputs": [
    {
     "name": "stdout",
     "output_type": "stream",
     "text": [
      "0\n"
     ]
    }
   ],
   "source": [
    "#word count using file I/O Python\n",
    "def dataanalysisofwordcount(filename,word):\n",
    "    f=open(filename,\"r\")\n",
    "    if f.mode==\"r\":\n",
    "        x=f.read()\n",
    "        lst=x.split()\n",
    "    cnt=lst.count(word)\n",
    "    return cnt\n",
    "print(dataanalysisofwordcount(\"file1.txt\",\"rest\"))"
   ]
  },
  {
   "cell_type": "code",
   "execution_count": 7,
   "metadata": {},
   "outputs": [
    {
     "name": "stdout",
     "output_type": "stream",
     "text": [
      "12\n"
     ]
    }
   ],
   "source": [
    "def dataanalysisofwordcount(filename,word):\n",
    "    f=open(filename,\"r\")\n",
    "    if f.mode==\"r\":\n",
    "        x=f.read()\n",
    "        lst=x.split()\n",
    "    cnt=lst.count(word)\n",
    "    return cnt\n",
    "print(dataanalysisofwordcount(\"file1.txt\",\"line\"))"
   ]
  },
  {
   "cell_type": "code",
   "execution_count": 8,
   "metadata": {},
   "outputs": [
    {
     "name": "stdout",
     "output_type": "stream",
     "text": [
      "142\n"
     ]
    }
   ],
   "source": [
    "#Function to count of characters in the file\n",
    "def countcharacter(filename):\n",
    "        f=open(filename,\"r\")\n",
    "        if f.mode==\"r\":\n",
    "            x=f.read()\n",
    "            lst=list(x)\n",
    "        return len(lst)\n",
    "print(countcharacter(\"file1.txt\"))"
   ]
  },
  {
   "cell_type": "code",
   "execution_count": 9,
   "metadata": {},
   "outputs": [
    {
     "name": "stdout",
     "output_type": "stream",
     "text": [
      "10\n"
     ]
    }
   ],
   "source": [
    "#Function to count the upper case character from the given file\n",
    "def countCharacter(filename):\n",
    "    c=0\n",
    "    f=open(filename,\"r\")\n",
    "    if f.mode=='r':\n",
    "        x=f.read()\n",
    "        lst=list(x)\n",
    "        for i in lst:\n",
    "            if(i.isupper()):\n",
    "                c=c+1;\n",
    "    return c\n",
    "print(countCharacter(\"file1.txt\"))"
   ]
  },
  {
   "cell_type": "code",
   "execution_count": 10,
   "metadata": {},
   "outputs": [
    {
     "name": "stdout",
     "output_type": "stream",
     "text": [
      "Enter file name: file1.txt\n",
      "Number of lines:\n",
      "12\n"
     ]
    }
   ],
   "source": [
    "#Function to count of lines in given file\n",
    "fname = input(\"Enter file name: \")\n",
    "num_lines = 0\n",
    "with open(fname, 'r') as f:\n",
    "    for line in f:\n",
    "        num_lines += 1\n",
    "print(\"Number of lines:\")\n",
    "print(num_lines)"
   ]
  },
  {
   "cell_type": "code",
   "execution_count": 11,
   "metadata": {},
   "outputs": [
    {
     "data": {
      "text/plain": [
       "13"
      ]
     },
     "execution_count": 11,
     "metadata": {},
     "output_type": "execute_result"
    }
   ],
   "source": [
    "#Function to count of lines in given file\n",
    "def countlines(filename):\n",
    "        f=open(filename,\"r\")\n",
    "        if f.mode=='r':\n",
    "            x=f.read()\n",
    "            lst=x.split(\"\\n\")\n",
    "        return len(lst)\n",
    "countlines(\"file1.txt\")"
   ]
  },
  {
   "cell_type": "code",
   "execution_count": 12,
   "metadata": {},
   "outputs": [
    {
     "ename": "SyntaxError",
     "evalue": "invalid syntax (<ipython-input-12-378d0075790e>, line 1)",
     "output_type": "error",
     "traceback": [
      "\u001b[1;36m  File \u001b[1;32m\"<ipython-input-12-378d0075790e>\"\u001b[1;36m, line \u001b[1;32m1\u001b[0m\n\u001b[1;33m    sudo nano file.txt\u001b[0m\n\u001b[1;37m            ^\u001b[0m\n\u001b[1;31mSyntaxError\u001b[0m\u001b[1;31m:\u001b[0m invalid syntax\n"
     ]
    }
   ],
   "source": [
    "sudo nano file.txt"
   ]
  },
  {
   "cell_type": "code",
   "execution_count": 13,
   "metadata": {},
   "outputs": [],
   "source": [
    "\n",
    "# Regular Expression for Indian Mobile Number\n",
    "# Validation for EmailID Username@DomainName.extension\n",
    "#9876543210--First digit [6-9][0-9]\n",
    "#09876543210--First digit zero second digit [6-9] last 9 digits[0-9]\n",
    "#+919876543210--First+ sign, second digit 9,third digit 1     \n",
    "                #fourth digit [6-9] rest of 9 digit [0-9]"
   ]
  },
  {
   "cell_type": "code",
   "execution_count": 14,
   "metadata": {},
   "outputs": [
    {
     "name": "stdout",
     "output_type": "stream",
     "text": [
      "True\n",
      "False\n",
      "False\n"
     ]
    }
   ],
   "source": [
    "\n",
    "import re\n",
    "def phoneNumberValidate(phone):\n",
    "    pattern='^[6-9][0-9]{9}$|^[0][6-9][0-9]{9}$|[+][9][1][6-9][0-9]{9}$'\n",
    "    phone=str(phone)\n",
    "    if re.match(pattern,phone):\n",
    "        return True\n",
    "    return False\n",
    "print(phoneNumberValidate(9966338855))\n",
    "print(phoneNumberValidate(99668855))\n",
    "print(phoneNumberValidate(+919988774455))"
   ]
  },
  {
   "cell_type": "code",
   "execution_count": 15,
   "metadata": {},
   "outputs": [
    {
     "name": "stdout",
     "output_type": "stream",
     "text": [
      "True\n",
      "True\n",
      "True\n"
     ]
    }
   ],
   "source": [
    "import re\n",
    "def phoneNumberValidate(phone):\n",
    "    pattern='^[6-9][0-9]{9}$|^[0][6-9][0-9]{9}$|[+][9][1][6-9][0-9]{9}$'\n",
    "    phone=str(phone)\n",
    "    if re.match(pattern,phone):\n",
    "        return True\n",
    "    return False\n",
    "print(phoneNumberValidate(\"9899668855\"))\n",
    "print(phoneNumberValidate(\"09899668855\"))\n",
    "print(phoneNumberValidate(\"+919899668855\"))"
   ]
  },
  {
   "cell_type": "code",
   "execution_count": 16,
   "metadata": {},
   "outputs": [],
   "source": [
    "\n",
    "#RE--Validation of Roll Number\n",
    "###152U1A0501"
   ]
  },
  {
   "cell_type": "code",
   "execution_count": 17,
   "metadata": {},
   "outputs": [
    {
     "name": "stdout",
     "output_type": "stream",
     "text": [
      "True\n",
      "False\n"
     ]
    }
   ],
   "source": [
    "import re\n",
    "def validateRollNumber(number):\n",
    "    number=str(number)\n",
    "    pattern= \"^[1][5][2][U][1][A][0][1-9][0-6][0-9]$\";\n",
    "    if re.match(pattern,number):\n",
    "        return True\n",
    "    return False\n",
    "print( validateRollNumber(\"152U1A0555\"))\n",
    "print( validateRollNumber(\"152U1A0485\"))"
   ]
  },
  {
   "cell_type": "code",
   "execution_count": 18,
   "metadata": {},
   "outputs": [
    {
     "name": "stdout",
     "output_type": "stream",
     "text": [
      "True\n",
      "False\n"
     ]
    }
   ],
   "source": [
    "# Validation for EmailID Username@DomainName.extension\n",
    "def validateEmailID(email):\n",
    "    pattern=\"^[0-9a-z][0-9a-z_.]{5,14}[0-9a-z][@][a-z0-9]{3,18}[.][a-z]{2,4}$\"\n",
    "    if re.match(pattern,email):\n",
    "        return True\n",
    "    return False\n",
    "print(validateEmailID(\"anil.1889@gmail.com\"))\n",
    "print(validateEmailID(\"$anil.1889@gmail.com\"))"
   ]
  },
  {
   "cell_type": "code",
   "execution_count": 19,
   "metadata": {},
   "outputs": [],
   "source": [
    "#Regular Expression--Password\n",
    "#Parameters:[6-15]\n",
    "#Accept lower case, uppercase, spl symbols(@,$,#,!)"
   ]
  },
  {
   "cell_type": "code",
   "execution_count": 20,
   "metadata": {},
   "outputs": [
    {
     "name": "stdout",
     "output_type": "stream",
     "text": [
      "False\n",
      "False\n"
     ]
    }
   ],
   "source": [
    "#expression for password\n",
    "#'^[6-15][@][#][!]'\n",
    "import re\n",
    "def validatepass(password):\n",
    "    pattern='^[A-Za-z0-9@#!]{6-15}$'\n",
    "    if re.match(pattern,password):\n",
    "        return True\n",
    "    return False \n",
    "print(validatepass('s123@#!'))\n",
    "print(validatepass('sanil1233AS123@'))"
   ]
  },
  {
   "cell_type": "code",
   "execution_count": 21,
   "metadata": {},
   "outputs": [
    {
     "name": "stdout",
     "output_type": "stream",
     "text": [
      "file is created successfully and data is written\n"
     ]
    }
   ],
   "source": [
    "# Function to create a file and write some data\n",
    "def createfile(filename):\n",
    "    f=open(filename,\"w\")\n",
    "    for i in range(5):\n",
    "        f.write(\"This is %d lines\\n\" % i)\n",
    "    print(\"file is created successfully and data is written\")\n",
    "    f.close()\n",
    "    return\n",
    "createfile(\"file2.txt\")"
   ]
  },
  {
   "cell_type": "code",
   "execution_count": 22,
   "metadata": {},
   "outputs": [
    {
     "name": "stdout",
     "output_type": "stream",
     "text": [
      "50\n"
     ]
    }
   ],
   "source": [
    "#Function to count the lower case character from the given file\n",
    "def countCharacter(filename):\n",
    "    c=0\n",
    "    f=open(filename,\"r\")\n",
    "    if f.mode=='r':\n",
    "        x=f.read()\n",
    "        lst=list(x)\n",
    "        for i in lst:\n",
    "            if(i.islower()):\n",
    "                c=c+1;\n",
    "    return c\n",
    "print(countCharacter(\"file2.txt\"))"
   ]
  },
  {
   "cell_type": "code",
   "execution_count": 23,
   "metadata": {},
   "outputs": [
    {
     "name": "stdout",
     "output_type": "stream",
     "text": [
      "5\n"
     ]
    }
   ],
   "source": [
    "#Need to return the count of digits              \n",
    "def countCharacter(filename):\n",
    "    c=0\n",
    "    f=open(filename,\"r\")\n",
    "    if f.mode=='r':\n",
    "        x=f.read()\n",
    "        lst=list(x)\n",
    "        for i in lst:\n",
    "            if(i.isdecimal()):\n",
    "                c=c+1;\n",
    "    return c\n",
    "print(countCharacter(\"file2.txt\"))"
   ]
  },
  {
   "cell_type": "code",
   "execution_count": 24,
   "metadata": {},
   "outputs": [
    {
     "name": "stdout",
     "output_type": "stream",
     "text": [
      "20\n"
     ]
    }
   ],
   "source": [
    "#Need to return the count of spl characers\n",
    "def countCharacter(filename):\n",
    "    c=0\n",
    "    low=0\n",
    "    up=0\n",
    "    dec=0\n",
    "    f=open(filename,\"r\")\n",
    "    if f.mode=='r':\n",
    "        x=f.read()\n",
    "        lst=list(x)\n",
    "        for i in lst:\n",
    "            if i.islower():\n",
    "                low=low+1;\n",
    "            elif i.isupper():\n",
    "                up=up+1\n",
    "            elif i.isdecimal():\n",
    "                dec=dec+1\n",
    "          \n",
    "            else:\n",
    "                c=c+1 # here \\n is considered as special character\n",
    "    return c\n",
    "print(countCharacter(\"file2.txt\"))"
   ]
  },
  {
   "cell_type": "code",
   "execution_count": 25,
   "metadata": {},
   "outputs": [
    {
     "name": "stdout",
     "output_type": "stream",
     "text": [
      "File is created and Data is written\n",
      "True\n",
      "True\n",
      "True\n",
      "True\n"
     ]
    }
   ],
   "source": [
    "#Need to create a file which these parameters name,EmailID,Mobile number,Validate the EmailID,Validate the Mobile Number\n",
    "import re\n",
    "def phoneNumberVariable(phone):\n",
    "    pattern='^[6-9][0-9]{9}$|^[0][6-9][0-9]{9}$|^[+][9][1][6-9][0-9]{9}$'\n",
    "    phone=str(phone)\n",
    "    if re.match(pattern,phone):\n",
    "        return True\n",
    "    return False\n",
    "def createFile(filename):\n",
    "    f=open(filename,\"w\")\n",
    "    f.write(\"name: Purandhar\")\n",
    "    f.write(\"emailID:datlareddy460@gmail.com\")\n",
    "    f.write(\"Mobile number: 1335495684\")\n",
    "    print(\"File is created and Data is written\")\n",
    "    f.close()    \n",
    "    return\n",
    "createFile(\"file2.txt\")\n",
    "\n",
    "\n",
    "# Validation for EmailID Username@DomainName.extension\n",
    "def validateEmailID(email):\n",
    "    pattern=\"^[0-9a-z][0-9a-z_.]{5,14}[0-9a-z][@][a-z0-9]{3,18}[.][a-z]{2,4}$\"\n",
    "    if re.match(pattern,email):\n",
    "        return True\n",
    "    return False\n",
    "\n",
    "\n",
    "\n",
    "print(phoneNumberVariable(\"+917032653823\"))\n",
    "print(phoneNumberVariable(\"08712345674\"))\n",
    "print(phoneNumberVariable(\"8712345674\"))\n",
    "\n",
    "print(validateEmailID(\"datlareddy460@gmail.com\"))"
   ]
  },
  {
   "cell_type": "code",
   "execution_count": null,
   "metadata": {},
   "outputs": [],
   "source": []
  }
 ],
 "metadata": {
  "kernelspec": {
   "display_name": "Python 3",
   "language": "python",
   "name": "python3"
  },
  "language_info": {
   "codemirror_mode": {
    "name": "ipython",
    "version": 3
   },
   "file_extension": ".py",
   "mimetype": "text/x-python",
   "name": "python",
   "nbconvert_exporter": "python",
   "pygments_lexer": "ipython3",
   "version": "3.7.3"
  }
 },
 "nbformat": 4,
 "nbformat_minor": 2
}
